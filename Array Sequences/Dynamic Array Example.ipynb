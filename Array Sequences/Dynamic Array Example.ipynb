{
 "cells": [
  {
   "cell_type": "markdown",
   "metadata": {},
   "source": [
    "# Dynamic Arrays\n",
    "\n",
    "### Definition\n",
    "A dynamic array can adjust its capacity if needed. Because of this we can keep adding elements to an array and it will double its capacity if the current capacity is not enough to store all elements including the new one(s)."
   ]
  },
  {
   "cell_type": "code",
   "execution_count": 16,
   "metadata": {
    "collapsed": true
   },
   "outputs": [],
   "source": [
    "import ctypes\n",
    "import sys"
   ]
  },
  {
   "cell_type": "code",
   "execution_count": 17,
   "metadata": {
    "collapsed": true
   },
   "outputs": [],
   "source": [
    "class DynamicArray(object):\n",
    "    \n",
    "    def __init__(self):\n",
    "        \n",
    "        self.n = 0 # Start off with 0 elements in the array\n",
    "        self.capacity = 1 # Start off with a capacity for 1 element\n",
    "        self.A = self.make_array(self.capacity) # create the array using ctypes (see bottom)\n",
    "        \n",
    "    def __len__(self):\n",
    "        # simply return the length of our array\n",
    "        return self.n\n",
    "    \n",
    "    def __getitem__(self, k):\n",
    "        \n",
    "        # check if the requested k item is out of bounds\n",
    "        # because we cannot return an item that is not there\n",
    "        if not 0 <= k < self.n:\n",
    "            return IndexError(\"k is out of bounds!\")\n",
    "        \n",
    "        # if k is accepted, simply return the value at index k\n",
    "        return self.A[k]\n",
    "    \n",
    "    def append(self, element):\n",
    "        \n",
    "        #################\n",
    "        # THIS STEP IS WHAT ACTUALLY DEFINES A DYNAMIC ARRAY!!\n",
    "        ################\n",
    "        \n",
    "        # Check our actual count against our capacity\n",
    "        # if we already reached maximum capactiy (n == capacity), we need to stock up on capacity\n",
    "        if self.n == self.capacity:\n",
    "            self._resize(2 * self.capacity) # double our capacity (2x)\n",
    "            \n",
    "        self.A[self.n] = element # set the last item in our array (which is n) to our element; basically append to end of array\n",
    "        self.n += 1 # we added an element so length of our array +1\n",
    "        \n",
    "    def _resize(self, new_cap):\n",
    "        \n",
    "        # create new array B with requested new capacity\n",
    "        B = self.make_array(new_cap)\n",
    "        \n",
    "        # Create re-references for B to same items contained in array A\n",
    "        for k in range(self.n):\n",
    "            B[k] = self.A[k]\n",
    "            \n",
    "        self.A = B # reassign/update our array A to newly created array B with higher capacity\n",
    "        self.capacity = new_cap # make new_cap our basic capacity\n",
    "        \n",
    "    def make_array(self, new_cap):\n",
    "        \n",
    "        # See ctypes Documentation for further details\n",
    "        # basically simply create a new array with given capacity\n",
    "        return (new_cap * ctypes.py_object)()"
   ]
  },
  {
   "cell_type": "code",
   "execution_count": 137,
   "metadata": {
    "collapsed": true
   },
   "outputs": [],
   "source": [
    "# create our dynamic array\n",
    "arr = DynamicArray()"
   ]
  },
  {
   "cell_type": "code",
   "execution_count": 138,
   "metadata": {
    "collapsed": false
   },
   "outputs": [],
   "source": [
    "# add an element to our array\n",
    "arr.append(1)"
   ]
  },
  {
   "cell_type": "code",
   "execution_count": 139,
   "metadata": {
    "collapsed": false
   },
   "outputs": [
    {
     "name": "stdout",
     "output_type": "stream",
     "text": [
      "length: 1\n",
      "capacity: 1\n"
     ]
    }
   ],
   "source": [
    "print('length:',len(arr))\n",
    "print('capacity:',arr.capacity)"
   ]
  },
  {
   "cell_type": "code",
   "execution_count": 140,
   "metadata": {
    "collapsed": true
   },
   "outputs": [],
   "source": [
    "# add another element\n",
    "arr.append(2)"
   ]
  },
  {
   "cell_type": "code",
   "execution_count": 141,
   "metadata": {
    "collapsed": false
   },
   "outputs": [
    {
     "name": "stdout",
     "output_type": "stream",
     "text": [
      "length: 2\n",
      "capacity: 2\n"
     ]
    }
   ],
   "source": [
    "print('length:',len(arr))\n",
    "print('capacity:',arr.capacity)"
   ]
  },
  {
   "cell_type": "code",
   "execution_count": 142,
   "metadata": {
    "collapsed": false
   },
   "outputs": [
    {
     "name": "stdout",
     "output_type": "stream",
     "text": [
      "length: 3\n",
      "capacity: 4\n"
     ]
    }
   ],
   "source": [
    "arr.append(3)\n",
    "print('length:',len(arr))\n",
    "print('capacity:',arr.capacity)"
   ]
  },
  {
   "cell_type": "code",
   "execution_count": 143,
   "metadata": {
    "collapsed": false
   },
   "outputs": [
    {
     "name": "stdout",
     "output_type": "stream",
     "text": [
      "Current length: 3, Current capacity: 4\n",
      "Current length: 23, Current capacity: 32\n",
      "Current length: 43, Current capacity: 64\n",
      "Current length: 63, Current capacity: 64\n",
      "Current length: 83, Current capacity: 128\n",
      "Current length: 103, Current capacity: 128\n",
      "Current length: 123, Current capacity: 128\n",
      "Current length: 143, Current capacity: 256\n",
      "Current length: 163, Current capacity: 256\n",
      "Current length: 183, Current capacity: 256\n",
      "Current length: 203, Current capacity: 256\n",
      "Current length: 223, Current capacity: 256\n",
      "Current length: 243, Current capacity: 256\n",
      "Current length: 263, Current capacity: 512\n"
     ]
    }
   ],
   "source": [
    "t = 264\n",
    "for k in range(t):\n",
    "    if k % 20== 0:\n",
    "        print('Current length: {}, Current capacity: {}'.format(len(arr), arr.capacity))\n",
    "    \n",
    "    arr.append(k)"
   ]
  },
  {
   "cell_type": "markdown",
   "metadata": {},
   "source": [
    "# Conclusion\n",
    "As we can see, the dynamic array preemptively assigns capacity. If the capacity threshold is reached, it will double the capacity again to make room for more elements. "
   ]
  },
  {
   "cell_type": "code",
   "execution_count": null,
   "metadata": {
    "collapsed": true
   },
   "outputs": [],
   "source": []
  }
 ],
 "metadata": {
  "kernelspec": {
   "display_name": "Python 3",
   "language": "python",
   "name": "python3"
  },
  "language_info": {
   "codemirror_mode": {
    "name": "ipython",
    "version": 3
   },
   "file_extension": ".py",
   "mimetype": "text/x-python",
   "name": "python",
   "nbconvert_exporter": "python",
   "pygments_lexer": "ipython3",
   "version": "3.6.0"
  }
 },
 "nbformat": 4,
 "nbformat_minor": 2
}
